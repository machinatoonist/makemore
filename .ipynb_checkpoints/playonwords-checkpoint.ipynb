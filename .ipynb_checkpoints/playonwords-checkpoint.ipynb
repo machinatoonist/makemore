{
 "cells": [
  {
   "cell_type": "code",
   "execution_count": null,
   "id": "223a47fe-5bc2-46a9-bc6f-4ca2cce37714",
   "metadata": {},
   "outputs": [],
   "source": [
    "!pwd"
   ]
  },
  {
   "cell_type": "markdown",
   "id": "c967ff3a-4381-4088-8f1d-feb919d8968f",
   "metadata": {},
   "source": [
    "See Andrej Karparthy's Youtube: https://www.youtube.com/watch?v=PaCmpygFfXo&t=96s"
   ]
  },
  {
   "cell_type": "code",
   "execution_count": 1,
   "id": "cac78fda-2cd6-4b91-aec4-13c1ab2f9162",
   "metadata": {},
   "outputs": [],
   "source": [
    "words = open('names.txt', 'r').read().splitlines()"
   ]
  },
  {
   "cell_type": "code",
   "execution_count": 2,
   "id": "0ea47275-4b9e-4c50-815f-6c79f24f744e",
   "metadata": {},
   "outputs": [
    {
     "data": {
      "text/plain": [
       "['emma',\n",
       " 'olivia',\n",
       " 'ava',\n",
       " 'isabella',\n",
       " 'sophia',\n",
       " 'charlotte',\n",
       " 'mia',\n",
       " 'amelia',\n",
       " 'harper',\n",
       " 'evelyn']"
      ]
     },
     "execution_count": 2,
     "metadata": {},
     "output_type": "execute_result"
    }
   ],
   "source": [
    "# First 10 words\n",
    "words[:10]"
   ]
  },
  {
   "cell_type": "code",
   "execution_count": 3,
   "id": "41f64215-84c4-472e-8d8b-3fab988cfc4e",
   "metadata": {},
   "outputs": [
    {
     "data": {
      "text/plain": [
       "32033"
      ]
     },
     "execution_count": 3,
     "metadata": {},
     "output_type": "execute_result"
    }
   ],
   "source": [
    "len(words)"
   ]
  },
  {
   "cell_type": "code",
   "execution_count": 4,
   "id": "ff63def6-af81-4ba8-9254-cd593f9a1d58",
   "metadata": {},
   "outputs": [
    {
     "data": {
      "text/plain": [
       "2"
      ]
     },
     "execution_count": 4,
     "metadata": {},
     "output_type": "execute_result"
    }
   ],
   "source": [
    "min([len(each) for each in words])"
   ]
  },
  {
   "cell_type": "code",
   "execution_count": 5,
   "id": "cef415f4-0e50-4456-ac3a-3ac847eb05cc",
   "metadata": {},
   "outputs": [
    {
     "data": {
      "text/plain": [
       "15"
      ]
     },
     "execution_count": 5,
     "metadata": {},
     "output_type": "execute_result"
    }
   ],
   "source": [
    "max([len(each) for each in words])"
   ]
  },
  {
   "cell_type": "markdown",
   "id": "bb8cc0cd-a414-463b-8fb6-e7c8351ddeb1",
   "metadata": {},
   "source": [
    "## Build a Bigram Model"
   ]
  },
  {
   "cell_type": "markdown",
   "id": "e88e6c18-9d16-4f2c-9d1b-50005b78b54d",
   "metadata": {},
   "source": [
    "Look at the previous letter to predict the next"
   ]
  },
  {
   "cell_type": "code",
   "execution_count": 6,
   "id": "268deab8-9644-40cd-a5ef-ad04bd361db3",
   "metadata": {},
   "outputs": [],
   "source": [
    "b = {}\n",
    "for w in words:\n",
    "    chs = ['<S>'] + list(w) + ['<E>']\n",
    "    for ch1, ch2 in zip(chs, chs[1:]):\n",
    "        bigram = (ch1, ch2)\n",
    "        b[bigram] = b.get(bigram, 0) + 1 # b[bigram]    "
   ]
  },
  {
   "cell_type": "code",
   "execution_count": 7,
   "id": "daa9e8d1-859b-4c79-92d0-aff0369dbea4",
   "metadata": {},
   "outputs": [
    {
     "data": {
      "text/plain": [
       "[(('n', '<E>'), 6763),\n",
       " (('a', '<E>'), 6640),\n",
       " (('a', 'n'), 5438),\n",
       " (('<S>', 'a'), 4410),\n",
       " (('e', '<E>'), 3983),\n",
       " (('a', 'r'), 3264),\n",
       " (('e', 'l'), 3248),\n",
       " (('r', 'i'), 3033),\n",
       " (('n', 'a'), 2977),\n",
       " (('<S>', 'k'), 2963)]"
      ]
     },
     "execution_count": 7,
     "metadata": {},
     "output_type": "execute_result"
    }
   ],
   "source": [
    "res = sorted(b.items(), key = lambda x: x[1], reverse=True)\n",
    "res[:10]"
   ]
  },
  {
   "cell_type": "code",
   "execution_count": 8,
   "id": "c8607a80-5116-4df4-8bec-8f4427ce00ac",
   "metadata": {},
   "outputs": [],
   "source": [
    "import torch"
   ]
  },
  {
   "cell_type": "code",
   "execution_count": 9,
   "id": "326ee9bf-75fa-4419-a2e3-a277c2e7007f",
   "metadata": {},
   "outputs": [
    {
     "data": {
      "text/plain": [
       "tensor([[0, 0, 0, 0, 0],\n",
       "        [0, 0, 0, 0, 0],\n",
       "        [0, 0, 0, 0, 0]], dtype=torch.int32)"
      ]
     },
     "execution_count": 9,
     "metadata": {},
     "output_type": "execute_result"
    }
   ],
   "source": [
    "a = torch.zeros((3,5), dtype=torch.int32)\n",
    "a"
   ]
  },
  {
   "cell_type": "code",
   "execution_count": 10,
   "id": "c1239751-d3e4-4038-9ae8-88e86f31704f",
   "metadata": {},
   "outputs": [
    {
     "data": {
      "text/plain": [
       "torch.int32"
      ]
     },
     "execution_count": 10,
     "metadata": {},
     "output_type": "execute_result"
    }
   ],
   "source": [
    "a.dtype"
   ]
  },
  {
   "cell_type": "code",
   "execution_count": 11,
   "id": "952c74ba-3740-4987-ad64-11cb16abe24f",
   "metadata": {},
   "outputs": [],
   "source": [
    "a[1,3] += 1"
   ]
  },
  {
   "cell_type": "code",
   "execution_count": 12,
   "id": "1e781f92-7a28-45f7-8b00-b2892123b9bd",
   "metadata": {},
   "outputs": [
    {
     "data": {
      "text/plain": [
       "tensor([[0, 0, 0, 0, 0],\n",
       "        [0, 0, 0, 1, 0],\n",
       "        [0, 0, 0, 0, 0]], dtype=torch.int32)"
      ]
     },
     "execution_count": 12,
     "metadata": {},
     "output_type": "execute_result"
    }
   ],
   "source": [
    "a"
   ]
  },
  {
   "cell_type": "code",
   "execution_count": 13,
   "id": "9254d11e-c343-40ea-a2f2-8ae54e9a88d7",
   "metadata": {},
   "outputs": [
    {
     "data": {
      "text/plain": [
       "{'a': 1,\n",
       " 'b': 2,\n",
       " 'c': 3,\n",
       " 'd': 4,\n",
       " 'e': 5,\n",
       " 'f': 6,\n",
       " 'g': 7,\n",
       " 'h': 8,\n",
       " 'i': 9,\n",
       " 'j': 10,\n",
       " 'k': 11,\n",
       " 'l': 12,\n",
       " 'm': 13,\n",
       " 'n': 14,\n",
       " 'o': 15,\n",
       " 'p': 16,\n",
       " 'q': 17,\n",
       " 'r': 18,\n",
       " 's': 19,\n",
       " 't': 20,\n",
       " 'u': 21,\n",
       " 'v': 22,\n",
       " 'w': 23,\n",
       " 'x': 24,\n",
       " 'y': 25,\n",
       " 'z': 26,\n",
       " '.': 0}"
      ]
     },
     "execution_count": 13,
     "metadata": {},
     "output_type": "execute_result"
    }
   ],
   "source": [
    "# N = torch.zeros((28, 28), dtype=torch.int32)\n",
    "N = torch.zeros((27, 27), dtype=torch.int32)\n",
    "\n",
    "chars = sorted(list(set(''.join(words))))\n",
    "s_to_i = {s:i+1 for i,s in enumerate(chars)}\n",
    "s_to_i['.'] = 0\n",
    "# Removing traditional start and end tokens for Bigram for less crowded visualisation\n",
    "# s_to_i['<S>'] = 26\n",
    "# s_to_i['<E>'] = 27\n",
    "s_to_i\n"
   ]
  },
  {
   "cell_type": "code",
   "execution_count": 14,
   "id": "f865e533-fc50-4fbc-97e9-f4f07c56f6aa",
   "metadata": {},
   "outputs": [],
   "source": [
    "# Need a lookup table from characters to integers\n",
    "\n",
    "for w in words:\n",
    "    # chs = ['<S>'] + list(w) + ['<E>']\n",
    "    chs = ['.'] + list(w) + ['.']\n",
    "    for ch1, ch2 in zip(chs, chs[1:]):\n",
    "        ix1 = s_to_i[ch1]\n",
    "        ix2 = s_to_i[ch2]\n",
    "        N[ix1, ix2] += 1"
   ]
  },
  {
   "cell_type": "code",
   "execution_count": 15,
   "id": "75616f4c-7877-47e4-a1bd-e9e876658864",
   "metadata": {},
   "outputs": [
    {
     "data": {
      "text/plain": [
       "<matplotlib.image.AxesImage at 0x12e9f2100>"
      ]
     },
     "execution_count": 15,
     "metadata": {},
     "output_type": "execute_result"
    },
    {
     "data": {
      "image/png": "[encoded data removed]",
      "text/plain": [
       "<Figure size 432x288 with 1 Axes>"
      ]
     },
     "metadata": {
      "needs_background": "light"
     },
     "output_type": "display_data"
    }
   ],
   "source": [
    "import matplotlib.pyplot as plt\n",
    "%matplotlib inline\n",
    "plt.imshow(N)"
   ]
  },
  {
   "cell_type": "code",
   "execution_count": 16,
   "id": "5cdb45be-5ab5-4333-93eb-ac9ce5b584c5",
   "metadata": {},
   "outputs": [
    {
     "data": {
      "text/plain": [
       "{1: 'a',\n",
       " 2: 'b',\n",
       " 3: 'c',\n",
       " 4: 'd',\n",
       " 5: 'e',\n",
       " 6: 'f',\n",
       " 7: 'g',\n",
       " 8: 'h',\n",
       " 9: 'i',\n",
       " 10: 'j',\n",
       " 11: 'k',\n",
       " 12: 'l',\n",
       " 13: 'm',\n",
       " 14: 'n',\n",
       " 15: 'o',\n",
       " 16: 'p',\n",
       " 17: 'q',\n",
       " 18: 'r',\n",
       " 19: 's',\n",
       " 20: 't',\n",
       " 21: 'u',\n",
       " 22: 'v',\n",
       " 23: 'w',\n",
       " 24: 'x',\n",
       " 25: 'y',\n",
       " 26: 'z',\n",
       " 0: '.'}"
      ]
     },
     "execution_count": 16,
     "metadata": {},
     "output_type": "execute_result"
    }
   ],
   "source": [
    "# Map the inverse mapping from integer to character\n",
    "i_to_s = {i:s for s,i in s_to_i.items()}\n",
    "i_to_s"
   ]
  },
  {
   "cell_type": "code",
   "execution_count": 17,
   "id": "2eb06c6c-9868-46ad-83a6-ad8d08c49c12",
   "metadata": {},
   "outputs": [
    {
     "data": {
      "image/png": "[encoded data removed]",
      "text/plain": [
       "<Figure size 1152x1152 with 1 Axes>"
      ]
     },
     "metadata": {
      "needs_background": "light"
     },
     "output_type": "display_data"
    }
   ],
   "source": [
    "plt.figure(figsize=(16,16))\n",
    "plt.imshow(N, cmap='Blues')\n",
    "# for i in range(28):\n",
    "#     for j in range(28):\n",
    "for i in range(27):\n",
    "    for j in range(27):\n",
    "        # Inverse mapping from integers to strings\n",
    "        chstr = i_to_s[i] + i_to_s[j]\n",
    "        plt.text(j, i, chstr, ha='center', va='bottom', color='lightgrey')\n",
    "        plt.text(j, i, N[i,j].item(), ha='center', va='top', color='lightgrey')\n",
    "\n",
    "plt.axis('off');"
   ]
  },
  {
   "cell_type": "code",
   "execution_count": 18,
   "id": "7519611c-75d1-455b-a3fb-28362bb35b64",
   "metadata": {},
   "outputs": [
    {
     "data": {
      "text/plain": [
       "tensor([   0, 4410, 1306, 1542, 1690, 1531,  417,  669,  874,  591, 2422, 2963,\n",
       "        1572, 2538, 1146,  394,  515,   92, 1639, 2055, 1308,   78,  376,  307,\n",
       "         134,  535,  929], dtype=torch.int32)"
      ]
     },
     "execution_count": 18,
     "metadata": {},
     "output_type": "execute_result"
    }
   ],
   "source": [
    "N[0]"
   ]
  },
  {
   "cell_type": "code",
   "execution_count": 19,
   "id": "a8d20bb5-1e2e-42e3-8305-114a527233bb",
   "metadata": {},
   "outputs": [
    {
     "data": {
      "text/plain": [
       "tensor(1.)"
      ]
     },
     "execution_count": 19,
     "metadata": {},
     "output_type": "execute_result"
    }
   ],
   "source": [
    "# Convert to floats because we will normalise the counts\n",
    "p = N[0].float()\n",
    "sum(p / p.sum())\n"
   ]
  },
  {
   "cell_type": "code",
   "execution_count": 20,
   "id": "95a80e44-3cdb-4f9b-9e4b-823ca713dcdd",
   "metadata": {},
   "outputs": [
    {
     "data": {
      "text/plain": [
       "tensor([   0., 4410., 1306., 1542., 1690., 1531.,  417.,  669.,  874.,  591.,\n",
       "        2422., 2963., 1572., 2538., 1146.,  394.,  515.,   92., 1639., 2055.,\n",
       "        1308.,   78.,  376.,  307.,  134.,  535.,  929.])"
      ]
     },
     "execution_count": 20,
     "metadata": {},
     "output_type": "execute_result"
    }
   ],
   "source": [
    "p"
   ]
  },
  {
   "cell_type": "code",
   "execution_count": 21,
   "id": "56052d0a-706a-459a-a455-52b87c206071",
   "metadata": {},
   "outputs": [
    {
     "data": {
      "text/plain": [
       "tensor([0.6064, 0.3033, 0.0903])"
      ]
     },
     "execution_count": 21,
     "metadata": {},
     "output_type": "execute_result"
    }
   ],
   "source": [
    "g = torch.Generator().manual_seed(2147483647)\n",
    "p = torch.rand(3, generator=g)\n",
    "p\n",
    "\n",
    "# Probability distribution of just 3 elements\n",
    "p = p / p.sum()\n",
    "p"
   ]
  },
  {
   "cell_type": "code",
   "execution_count": 22,
   "id": "b1d34651-0486-43a5-826f-c1b8b3565117",
   "metadata": {},
   "outputs": [
    {
     "data": {
      "text/plain": [
       "tensor([1, 1, 2, 0, 0, 2, 1, 1, 0, 0, 0, 1, 1, 0, 0, 1, 1, 0, 0, 1, 0, 2, 0, 0,\n",
       "        1, 0, 0, 1, 0, 0, 0, 1, 1, 1, 0, 1, 1, 0, 0, 1, 1, 1, 0, 1, 1, 0, 1, 1,\n",
       "        0, 2, 0, 0, 0, 0, 0, 0, 0, 0, 0, 0, 1, 1, 0, 0, 0, 0, 0, 0, 0, 0, 1, 0,\n",
       "        0, 1, 0, 0, 0, 0, 0, 0, 0, 1, 2, 0, 0, 0, 0, 0, 0, 1, 0, 0, 2, 0, 1, 0,\n",
       "        0, 1, 1, 1])"
      ]
     },
     "execution_count": 22,
     "metadata": {},
     "output_type": "execute_result"
    }
   ],
   "source": [
    "# Generate multinomial integers with the probability distribution given in p\n",
    "torch.multinomial(p, num_samples=100, replacement=True, generator=g)"
   ]
  },
  {
   "cell_type": "code",
   "execution_count": 23,
   "id": "c9423df3-b989-4d7f-8e9e-02792fa37a81",
   "metadata": {},
   "outputs": [
    {
     "data": {
      "text/plain": [
       "tensor([0.0000, 0.1377, 0.0408, 0.0481, 0.0528, 0.0478, 0.0130, 0.0209, 0.0273,\n",
       "        0.0184, 0.0756, 0.0925, 0.0491, 0.0792, 0.0358, 0.0123, 0.0161, 0.0029,\n",
       "        0.0512, 0.0642, 0.0408, 0.0024, 0.0117, 0.0096, 0.0042, 0.0167, 0.0290])"
      ]
     },
     "execution_count": 23,
     "metadata": {},
     "output_type": "execute_result"
    }
   ],
   "source": [
    "# This is creates the probability distribution of the first letters of words\n",
    "p = N[0].float()\n",
    "p = p / p.sum()\n",
    "p"
   ]
  },
  {
   "cell_type": "code",
   "execution_count": 24,
   "id": "6737c916-c5c8-4b01-a4ed-23c1d8821f41",
   "metadata": {},
   "outputs": [
    {
     "data": {
      "text/plain": [
       "13"
      ]
     },
     "execution_count": 24,
     "metadata": {},
     "output_type": "execute_result"
    }
   ],
   "source": [
    "# Find the index of a single letter sampled from the distribution for the first letter\n",
    "g = torch.Generator().manual_seed(2147483647)\n",
    "ix = torch.multinomial(p, num_samples=1, replacement=True, generator=g).item()\n",
    "ix"
   ]
  },
  {
   "cell_type": "code",
   "execution_count": 25,
   "id": "7bd628bc-c826-4595-a9ee-a91fe8e30aad",
   "metadata": {},
   "outputs": [
    {
     "data": {
      "text/plain": [
       "'m'"
      ]
     },
     "execution_count": 25,
     "metadata": {},
     "output_type": "execute_result"
    }
   ],
   "source": [
    "i_to_s[ix]"
   ]
  },
  {
   "cell_type": "code",
   "execution_count": 26,
   "id": "1911ab84-d693-48e7-8227-caa7db24f5d2",
   "metadata": {},
   "outputs": [
    {
     "data": {
      "text/plain": [
       "torch.Size([27])"
      ]
     },
     "execution_count": 26,
     "metadata": {},
     "output_type": "execute_result"
    }
   ],
   "source": [
    "p.shape"
   ]
  },
  {
   "cell_type": "code",
   "execution_count": 27,
   "id": "79483723-6b06-4ad7-aaac-3928149487d0",
   "metadata": {
    "tags": []
   },
   "outputs": [
    {
     "data": {
      "text/plain": [
       "torch.Size([27, 1])"
      ]
     },
     "execution_count": 27,
     "metadata": {},
     "output_type": "execute_result"
    }
   ],
   "source": [
    "# Build an array of probabilities\n",
    "P = N.float() \n",
    "P.sum(1, keepdim=True).shape"
   ]
  },
  {
   "cell_type": "code",
   "execution_count": 28,
   "id": "1c445091-8c7b-4e27-b78a-f6bba992bc74",
   "metadata": {
    "tags": []
   },
   "outputs": [
    {
     "data": {
      "text/plain": [
       "torch.Size([27, 27])"
      ]
     },
     "execution_count": 28,
     "metadata": {},
     "output_type": "execute_result"
    }
   ],
   "source": [
    "P.shape"
   ]
  },
  {
   "cell_type": "markdown",
   "id": "20f174c7-a80e-4f25-8202-ae8668127af8",
   "metadata": {},
   "source": [
    "## Check dimensions to ensure this division is broadcastable\n",
    "https://pytorch.org/docs/stable/notes/broadcasting.html#general-semantics"
   ]
  },
  {
   "cell_type": "code",
   "execution_count": 29,
   "id": "58311c9c-77b1-4931-bbd9-6ca07b4d8b66",
   "metadata": {},
   "outputs": [
    {
     "name": "stdout",
     "output_type": "stream",
     "text": [
      "torch.Size([27, 27])\n",
      "torch.Size([27, 1])\n"
     ]
    }
   ],
   "source": [
    "print(P.shape)\n",
    "print(P.sum(1, keepdim=True).shape)"
   ]
  },
  {
   "cell_type": "code",
   "execution_count": 30,
   "id": "2f543a3f-1c1b-4d9d-b6f3-285179d2fd45",
   "metadata": {},
   "outputs": [],
   "source": [
    "# Added 1 to N to smooth model otherwise there is zero probability assigned to certain combinations that don't exist in the training set\n",
    "P =(N+1).float()\n",
    "P /= P.sum(1, keepdim=True) # In place division to prevent a completely new tensor being created\n",
    "# P = P / P.sum(1) # This will introduce a bug due to broadcasting rules the summation will occur down columns instead of along rows\n",
    "# The default will result in division by a row vector that is the sum down the columns"
   ]
  },
  {
   "cell_type": "code",
   "execution_count": 31,
   "id": "9f1bb619-8d7c-409a-a552-99726d19b6d9",
   "metadata": {},
   "outputs": [
    {
     "name": "stdout",
     "output_type": "stream",
     "text": [
      "torch.Size([27, 27])\n",
      "torch.Size([27])\n"
     ]
    }
   ],
   "source": [
    "print(P.shape)\n",
    "print(P.sum(1).shape)"
   ]
  },
  {
   "cell_type": "code",
   "execution_count": null,
   "id": "56f3b1ea-b4db-4997-9dc4-8b8577fee3fc",
   "metadata": {},
   "outputs": [],
   "source": []
  },
  {
   "cell_type": "code",
   "execution_count": 32,
   "id": "b2be5d0a-c823-4901-aa5b-e68b9e1f48e2",
   "metadata": {},
   "outputs": [
    {
     "data": {
      "text/plain": [
       "tensor(1.)"
      ]
     },
     "execution_count": 32,
     "metadata": {},
     "output_type": "execute_result"
    }
   ],
   "source": [
    "P[0].sum()"
   ]
  },
  {
   "cell_type": "code",
   "execution_count": null,
   "id": "6892ac1a-9b75-4ae0-af7c-60cb14f31871",
   "metadata": {},
   "outputs": [],
   "source": []
  },
  {
   "cell_type": "code",
   "execution_count": null,
   "id": "571624b0-de31-48a1-94c6-4345b5405eca",
   "metadata": {},
   "outputs": [],
   "source": []
  },
  {
   "cell_type": "code",
   "execution_count": 33,
   "id": "9f903dde-fa2f-43c2-afcc-548ec181408f",
   "metadata": {},
   "outputs": [
    {
     "name": "stdout",
     "output_type": "stream",
     "text": [
      "so.\n",
      "axx.\n",
      "minaymoryles.\n",
      "kondlaisah.\n",
      "anchshizarie.\n"
     ]
    }
   ],
   "source": [
    "# Now build a loop to build a word\n",
    "# g = torch.Generator().manual_seed(2147483647)\n",
    "\n",
    "for i in range(5):\n",
    "    ix = 0\n",
    "    out = []\n",
    "    while True:\n",
    "        p = P[ix]\n",
    "        # Inefficient to calculate probabilities each loop\n",
    "        # p = N[ix].float()\n",
    "        # p = p / p.sum()\n",
    "        # Compare with uniform distribution to see what completely random words would look like\n",
    "        # p = torch.ones(27)/27.0\n",
    "        ix = torch.multinomial(p, num_samples=1, replacement=True, generator=g).item()\n",
    "        # print(i_to_s[ix])\n",
    "        out.append(i_to_s[ix])\n",
    "        if ix == 0:\n",
    "            break\n",
    "\n",
    "    print(''.join(out))\n"
   ]
  },
  {
   "cell_type": "markdown",
   "id": "86074623-c0ac-443f-a899-43ceb8f7884b",
   "metadata": {},
   "source": [
    "## Evaluate how good the model is: Maximum Likelihood Estimation"
   ]
  },
  {
   "cell_type": "code",
   "execution_count": 34,
   "id": "eb0d8504-4c81-43a7-8b6f-ca38b66e2e39",
   "metadata": {},
   "outputs": [
    {
     "name": "stdout",
     "output_type": "stream",
     "text": [
      "log_likelihood=tensor(-559951.5625)\n",
      "nll=tensor(559951.5625)\n",
      "nll/n=tensor(2.4544)\n"
     ]
    }
   ],
   "source": [
    "log_likelihood = 0\n",
    "n = 0\n",
    "for w in words:\n",
    "    chs = ['.'] + list(w) + ['.']\n",
    "    for ch1, ch2 in zip(chs, chs[1:]):\n",
    "        ix1 = s_to_i[ch1]\n",
    "        ix2 = s_to_i[ch2]\n",
    "        prob = P[ix1, ix2]\n",
    "        logprob = torch.log(prob)\n",
    "        log_likelihood += logprob\n",
    "        n += 1\n",
    "        # print(f'{ch1} {ch2} : {prob:.4f} : {logprob:.4f}')\n",
    "\n",
    "print(f'{log_likelihood=}')\n",
    "nll = -log_likelihood\n",
    "# Loss function\n",
    "print(f'{nll=}')\n",
    "# Average log likelihood\n",
    "print(f'{nll/n=}')"
   ]
  },
  {
   "cell_type": "markdown",
   "id": "a0d00c41-5c4e-47bf-8415-b5714ac83642",
   "metadata": {},
   "source": [
    "The probabilities are a measure of how well the model predicts \\\n",
    "The product of these probabilities provides a measure of model quality"
   ]
  },
  {
   "cell_type": "code",
   "execution_count": 35,
   "id": "21c67e0e-8dda-4d1f-a651-0d27f84700f8",
   "metadata": {},
   "outputs": [
    {
     "data": {
      "text/plain": [
       "0.037037037037037035"
      ]
     },
     "execution_count": 35,
     "metadata": {},
     "output_type": "execute_result"
    }
   ],
   "source": [
    "# Anything above 4% means we learned something useful\n",
    "# Probabilities of 1 would be perfect\n",
    "1/27.0"
   ]
  },
  {
   "cell_type": "code",
   "execution_count": 36,
   "id": "a8fc9d77-1a58-4f43-894d-ef73986cedfb",
   "metadata": {},
   "outputs": [],
   "source": [
    "# GOAL: Maximise likelihood of the data w.r.t. model parameters (statistical modeling)\n",
    "# equivalent to maximising the log likelihood (log function is monotonic)\n",
    "# equivalent to minimising the negative log likelihood\n",
    "# equivalent to minimising the average negative log likelihood\n",
    "\n",
    "# log(a*b*c) = log(a) + log(b) +log(c)"
   ]
  },
  {
   "cell_type": "markdown",
   "id": "0630d1ec-3b2a-45f1-a21b-c3213c913514",
   "metadata": {},
   "source": [
    "## How likely is your name?"
   ]
  },
  {
   "cell_type": "code",
   "execution_count": null,
   "id": "486771d4-b32c-42d2-a3ba-ff00f89aa2ed",
   "metadata": {},
   "outputs": [],
   "source": []
  },
  {
   "cell_type": "code",
   "execution_count": 37,
   "id": "1778a155-9e31-4422-9b71-defbbe8b7ab4",
   "metadata": {},
   "outputs": [
    {
     "name": "stdout",
     "output_type": "stream",
     "text": [
      ". a : 0.1376 : -1.9835\n",
      "a n : 0.1604 : -1.8302\n",
      "n d : 0.0384 : -3.2594\n",
      "d r : 0.0770 : -2.5646\n",
      "r e : 0.1334 : -2.0143\n",
      "e j : 0.0027 : -5.9004\n",
      "j q : 0.0003 : -7.9817\n",
      "q . : 0.0970 : -2.3331\n",
      "log_likelihood=tensor(-27.8672)\n",
      "nll=tensor(27.8672)\n",
      "3.4834020137786865\n"
     ]
    }
   ],
   "source": [
    "# for w in words:\n",
    "log_likelihood = 0\n",
    "n = 0\n",
    "for w in ['andrejq']:\n",
    "    chs = ['.'] + list(w) + ['.']\n",
    "    for ch1, ch2 in zip(chs, chs[1:]):\n",
    "        ix1 = s_to_i[ch1]\n",
    "        ix2 = s_to_i[ch2]\n",
    "        prob = P[ix1, ix2]\n",
    "        logprob = torch.log(prob)\n",
    "        log_likelihood += logprob\n",
    "        n += 1\n",
    "        print(f'{ch1} {ch2} : {prob:.4f} : {logprob:.4f}')\n",
    "\n",
    "print(f'{log_likelihood=}')\n",
    "nll = -log_likelihood\n",
    "# Loss function\n",
    "print(f'{nll=}')\n",
    "# Average log likelihood\n",
    "print(f'{nll/n}')"
   ]
  },
  {
   "cell_type": "markdown",
   "id": "2f4df210-e288-4278-b865-0918d3d9bb9f",
   "metadata": {
    "tags": []
   },
   "source": [
    "## Create a neural network model"
   ]
  },
  {
   "cell_type": "code",
   "execution_count": 38,
   "id": "b3152dc4-059a-47c9-8121-90fef68a553a",
   "metadata": {},
   "outputs": [
    {
     "name": "stdout",
     "output_type": "stream",
     "text": [
      ". e\n",
      "e m\n",
      "m m\n",
      "m a\n",
      "a .\n"
     ]
    }
   ],
   "source": [
    "# Create the training set of bigrams\n",
    "xs, ys = [], []\n",
    "\n",
    "for w in words[:1]:\n",
    "    chs = ['.'] + list(w) + ['.']\n",
    "    for ch1, ch2 in zip(chs, chs[1:]):\n",
    "        ix1 = s_to_i[ch1]\n",
    "        ix2 = s_to_i[ch2]\n",
    "        print(ch1, ch2)\n",
    "        xs.append(ix1)\n",
    "        ys.append(ix2)\n",
    "\n",
    "# Be aware of the existence of torch.Tensor.  It has a different dtype\n",
    "xs = torch.tensor(xs)\n",
    "ys = torch.tensor(ys)"
   ]
  },
  {
   "cell_type": "code",
   "execution_count": 39,
   "id": "5d046931-75aa-4c95-864a-24c0814f28aa",
   "metadata": {},
   "outputs": [
    {
     "data": {
      "text/plain": [
       "tensor([ 0,  5, 13, 13,  1])"
      ]
     },
     "execution_count": 39,
     "metadata": {},
     "output_type": "execute_result"
    }
   ],
   "source": [
    "# Input into neural network\n",
    "xs"
   ]
  },
  {
   "cell_type": "code",
   "execution_count": 40,
   "id": "7d9afc24-d66c-40c9-97df-ffbfdf5662c6",
   "metadata": {},
   "outputs": [
    {
     "data": {
      "text/plain": [
       "tensor([ 5, 13, 13,  1,  0])"
      ]
     },
     "execution_count": 40,
     "metadata": {},
     "output_type": "execute_result"
    }
   ],
   "source": [
    "# Output from nn\n",
    "ys"
   ]
  },
  {
   "cell_type": "code",
   "execution_count": 41,
   "id": "3f674fd1-2ceb-49f3-ab14-6029f3130317",
   "metadata": {},
   "outputs": [],
   "source": [
    "import torch.nn.functional as F\n",
    "# One hot Encoding of xs\n",
    "# Need to cast as float so that the neural network weights can change\n",
    "xenc = F.one_hot(xs, num_classes=27).float()"
   ]
  },
  {
   "cell_type": "code",
   "execution_count": 42,
   "id": "f3f9dfb4-3b18-4f6e-9b9b-f2351adf3498",
   "metadata": {},
   "outputs": [
    {
     "data": {
      "text/plain": [
       "tensor([[1., 0., 0., 0., 0., 0., 0., 0., 0., 0., 0., 0., 0., 0., 0., 0., 0., 0.,\n",
       "         0., 0., 0., 0., 0., 0., 0., 0., 0.],\n",
       "        [0., 0., 0., 0., 0., 1., 0., 0., 0., 0., 0., 0., 0., 0., 0., 0., 0., 0.,\n",
       "         0., 0., 0., 0., 0., 0., 0., 0., 0.],\n",
       "        [0., 0., 0., 0., 0., 0., 0., 0., 0., 0., 0., 0., 0., 1., 0., 0., 0., 0.,\n",
       "         0., 0., 0., 0., 0., 0., 0., 0., 0.],\n",
       "        [0., 0., 0., 0., 0., 0., 0., 0., 0., 0., 0., 0., 0., 1., 0., 0., 0., 0.,\n",
       "         0., 0., 0., 0., 0., 0., 0., 0., 0.],\n",
       "        [0., 1., 0., 0., 0., 0., 0., 0., 0., 0., 0., 0., 0., 0., 0., 0., 0., 0.,\n",
       "         0., 0., 0., 0., 0., 0., 0., 0., 0.]])"
      ]
     },
     "execution_count": 42,
     "metadata": {},
     "output_type": "execute_result"
    }
   ],
   "source": [
    "xenc"
   ]
  },
  {
   "cell_type": "code",
   "execution_count": 43,
   "id": "69bd490c-b1b8-41d6-bbdf-dab375679ce4",
   "metadata": {},
   "outputs": [
    {
     "data": {
      "text/plain": [
       "torch.Size([5, 27])"
      ]
     },
     "execution_count": 43,
     "metadata": {},
     "output_type": "execute_result"
    }
   ],
   "source": [
    "xenc.shape"
   ]
  },
  {
   "cell_type": "code",
   "execution_count": 44,
   "id": "17c2ab2f-cd8f-4853-abfb-5086a918b08b",
   "metadata": {},
   "outputs": [
    {
     "data": {
      "text/plain": [
       "<matplotlib.image.AxesImage at 0x12f7e05e0>"
      ]
     },
     "execution_count": 44,
     "metadata": {},
     "output_type": "execute_result"
    },
    {
     "data": {
      "image/png": "[encoded data removed]",
      "text/plain": [
       "<Figure size 432x288 with 1 Axes>"
      ]
     },
     "metadata": {
      "needs_background": "light"
     },
     "output_type": "display_data"
    }
   ],
   "source": [
    "# Encoded name\n",
    "plt.imshow(xenc)"
   ]
  },
  {
   "cell_type": "code",
   "execution_count": 45,
   "id": "b3e6bd3d-6efb-443c-be73-453986e1cce2",
   "metadata": {},
   "outputs": [
    {
     "data": {
      "text/plain": [
       "torch.float32"
      ]
     },
     "execution_count": 45,
     "metadata": {},
     "output_type": "execute_result"
    }
   ],
   "source": [
    "xenc.dtype"
   ]
  },
  {
   "cell_type": "code",
   "execution_count": 46,
   "id": "6a17cb29-1b6d-41ac-9b17-0bac150abd30",
   "metadata": {},
   "outputs": [],
   "source": [
    "# randomly initialise 27 neurons, each neuron receives 27 inputs\n",
    "g = torch.Generator().manual_seed(2147483647)\n",
    "W = torch.randn((27, 27), generator = g)"
   ]
  },
  {
   "cell_type": "code",
   "execution_count": 47,
   "id": "fa5917b9-f93d-414a-ae38-03f5c1186246",
   "metadata": {},
   "outputs": [
    {
     "data": {
      "text/plain": [
       "tensor([[ 1.5674e+00, -2.3729e-01, -2.7385e-02, -1.1008e+00,  2.8588e-01,\n",
       "         -2.9644e-02, -1.5471e+00,  6.0489e-01,  7.9136e-02,  9.0462e-01,\n",
       "         -4.7125e-01,  7.8682e-01, -3.2844e-01, -4.3297e-01,  1.3729e+00,\n",
       "          2.9334e+00,  1.5618e+00, -1.6261e+00,  6.7716e-01, -8.4040e-01,\n",
       "          9.8488e-01, -1.4837e-01, -1.4795e+00,  4.4830e-01, -7.0731e-02,\n",
       "          2.4968e+00,  2.4448e+00],\n",
       "        [ 4.7236e-01,  1.4830e+00,  3.1748e-01,  1.0588e+00,  2.3982e+00,\n",
       "          4.6827e-01, -6.5650e-01,  6.1662e-01, -6.2198e-01,  5.1007e-01,\n",
       "          1.3563e+00,  2.3445e-01, -4.5585e-01, -1.3132e-03, -5.1161e-01,\n",
       "          5.5570e-01,  4.7458e-01, -1.3867e+00,  1.6229e+00,  1.7197e-01,\n",
       "          9.8846e-01,  5.0657e-01,  1.0198e+00, -1.9062e+00, -4.2753e-01,\n",
       "         -2.1259e+00,  9.6041e-01],\n",
       "        [ 1.9359e-01,  1.0532e+00,  6.3393e-01,  2.5786e-01,  9.6408e-01,\n",
       "         -2.4855e-01,  2.4756e-02, -3.0404e-02,  1.5622e+00, -4.4852e-01,\n",
       "         -1.2345e+00,  1.1220e+00, -6.7381e-01,  3.7882e-02, -5.5881e-01,\n",
       "         -8.2709e-01,  8.2253e-01, -7.5100e-01,  9.2778e-01, -1.4849e+00,\n",
       "         -2.1293e-01, -1.1860e+00, -6.6092e-01, -2.3348e-01,  1.5447e+00,\n",
       "          6.0061e-01, -7.0909e-01],\n",
       "        [ 1.9359e-01,  1.0532e+00,  6.3393e-01,  2.5786e-01,  9.6408e-01,\n",
       "         -2.4855e-01,  2.4756e-02, -3.0404e-02,  1.5622e+00, -4.4852e-01,\n",
       "         -1.2345e+00,  1.1220e+00, -6.7381e-01,  3.7882e-02, -5.5881e-01,\n",
       "         -8.2709e-01,  8.2253e-01, -7.5100e-01,  9.2778e-01, -1.4849e+00,\n",
       "         -2.1293e-01, -1.1860e+00, -6.6092e-01, -2.3348e-01,  1.5447e+00,\n",
       "          6.0061e-01, -7.0909e-01],\n",
       "        [-6.7006e-01, -1.2199e+00,  3.0314e-01, -1.0725e+00,  7.2762e-01,\n",
       "          5.1114e-02,  1.3095e+00, -8.0220e-01, -8.5042e-01, -1.8068e+00,\n",
       "          1.2523e+00, -1.2256e+00,  1.2165e+00, -9.6478e-01, -2.3211e-01,\n",
       "         -3.4762e-01,  3.3244e-01, -1.3263e+00,  1.1224e+00,  5.9641e-01,\n",
       "          4.5846e-01,  5.4011e-02, -1.7400e+00,  1.1560e-01,  8.0319e-01,\n",
       "          5.4108e-01, -1.1646e+00]])"
      ]
     },
     "execution_count": 47,
     "metadata": {},
     "output_type": "execute_result"
    }
   ],
   "source": [
    "# The weights are multiplied by the inputs to evaluate all 27 neurons on all 5 inputs\n",
    "xenc @ W "
   ]
  },
  {
   "cell_type": "code",
   "execution_count": 48,
   "id": "ca2c8e47-dd91-4c14-92aa-7dcf9924af1a",
   "metadata": {},
   "outputs": [
    {
     "data": {
      "text/plain": [
       "torch.Size([5, 27])"
      ]
     },
     "execution_count": 48,
     "metadata": {},
     "output_type": "execute_result"
    }
   ],
   "source": [
    "(xenc @ W).shape"
   ]
  },
  {
   "cell_type": "code",
   "execution_count": 49,
   "id": "31ae1ca3-45f9-4510-b9d7-bdf2739ba83a",
   "metadata": {},
   "outputs": [],
   "source": [
    "# (5, 27) @ (27, 27) -> (5, 27)"
   ]
  },
  {
   "cell_type": "code",
   "execution_count": 50,
   "id": "1f26b556-d1f7-4fc8-904b-5ac69499ff4e",
   "metadata": {},
   "outputs": [
    {
     "data": {
      "text/plain": [
       "tensor(0.0379)"
      ]
     },
     "execution_count": 50,
     "metadata": {},
     "output_type": "execute_result"
    }
   ],
   "source": [
    "(xenc @ W)[3, 13]"
   ]
  },
  {
   "cell_type": "code",
   "execution_count": 51,
   "id": "50d7d9b1-ddfd-48cd-957e-89944e4fb02f",
   "metadata": {},
   "outputs": [
    {
     "data": {
      "text/plain": [
       "tensor([0., 0., 0., 0., 0., 0., 0., 0., 0., 0., 0., 0., 0., 1., 0., 0., 0., 0.,\n",
       "        0., 0., 0., 0., 0., 0., 0., 0., 0.])"
      ]
     },
     "execution_count": 51,
     "metadata": {},
     "output_type": "execute_result"
    }
   ],
   "source": [
    "# Row\n",
    "xenc[3]"
   ]
  },
  {
   "cell_type": "code",
   "execution_count": 52,
   "id": "52799646-49a3-467f-aa95-b8e09f0cc8e9",
   "metadata": {},
   "outputs": [
    {
     "data": {
      "text/plain": [
       "tensor([-4.3297e-01, -9.6478e-01,  2.1346e+00, -7.2759e-01, -1.3753e-01,\n",
       "        -1.3132e-03, -3.1566e-01,  1.1199e+00, -4.7701e-01, -1.5065e+00,\n",
       "         1.2108e+00, -4.0636e-01,  1.9110e-01,  3.7882e-02,  1.3431e+00,\n",
       "         2.4311e-01, -1.5364e-01, -1.1583e+00,  1.1614e+00,  4.2016e-01,\n",
       "         2.7359e-01,  3.6583e-01,  1.7128e+00,  1.3769e+00, -8.9778e-01,\n",
       "        -9.5177e-01,  1.4723e-01])"
      ]
     },
     "execution_count": 52,
     "metadata": {},
     "output_type": "execute_result"
    }
   ],
   "source": [
    "# Column\n",
    "W[:, 13]"
   ]
  },
  {
   "cell_type": "code",
   "execution_count": 53,
   "id": "2c61cf35-38cb-4935-bf8b-ca7a8f629bcd",
   "metadata": {},
   "outputs": [
    {
     "data": {
      "text/plain": [
       "tensor(0.0379)"
      ]
     },
     "execution_count": 53,
     "metadata": {},
     "output_type": "execute_result"
    }
   ],
   "source": [
    "(xenc[3] * W[:, 13]).sum()"
   ]
  },
  {
   "cell_type": "code",
   "execution_count": 54,
   "id": "11353f31-5b63-45eb-83c9-97b7a3b97656",
   "metadata": {},
   "outputs": [],
   "source": [
    "# The dot product of the encodings and weights\n",
    "logits = (xenc @ W) # log counts\n",
    "# The new 2 values are called the softmax.  Takes layer of nn and creates probabilities\n",
    "# These are differentiable layers\n",
    "counts = logits.exp() # Analogous to the N array\n",
    "probs = counts / counts.sum(1, keepdims=True)"
   ]
  },
  {
   "cell_type": "code",
   "execution_count": 55,
   "id": "67b6b61d-f771-4736-8e9c-2c9d52e06396",
   "metadata": {},
   "outputs": [
    {
     "data": {
      "text/plain": [
       "tensor(1.0000)"
      ]
     },
     "execution_count": 55,
     "metadata": {},
     "output_type": "execute_result"
    }
   ],
   "source": [
    "probs[0].sum()"
   ]
  },
  {
   "cell_type": "code",
   "execution_count": 56,
   "id": "a152181b-1231-4eac-b423-6b3f589b88d0",
   "metadata": {
    "tags": []
   },
   "outputs": [
    {
     "data": {
      "text/plain": [
       "torch.float32"
      ]
     },
     "execution_count": 56,
     "metadata": {},
     "output_type": "execute_result"
    }
   ],
   "source": [
    "prob.dtype"
   ]
  },
  {
   "cell_type": "code",
   "execution_count": 57,
   "id": "42e5bf29-a753-4c76-a9f1-651a3376e5d7",
   "metadata": {},
   "outputs": [
    {
     "data": {
      "text/plain": [
       "torch.Size([5, 27])"
      ]
     },
     "execution_count": 57,
     "metadata": {},
     "output_type": "execute_result"
    }
   ],
   "source": [
    "probs.shape"
   ]
  },
  {
   "cell_type": "code",
   "execution_count": 58,
   "id": "d4466f85-5b6e-4c05-bd37-7a43726cc5ad",
   "metadata": {},
   "outputs": [
    {
     "data": {
      "text/plain": [
       "tensor(1.0386)"
      ]
     },
     "execution_count": 58,
     "metadata": {},
     "output_type": "execute_result"
    }
   ],
   "source": [
    "# The randn numbers are mainly between -3 and 3 which doesn't represent probabilities.  \n",
    "# So we will exponentiate these values to calculate the log likelihood\n",
    "logits.exp()[3, 13]"
   ]
  },
  {
   "cell_type": "code",
   "execution_count": 61,
   "id": "f392c525-6018-4d54-986d-43e51f27c6d6",
   "metadata": {},
   "outputs": [],
   "source": [
    "import numpy as np"
   ]
  },
  {
   "cell_type": "code",
   "execution_count": 62,
   "id": "1feabdf2-0337-4042-a34a-7a41e35f149a",
   "metadata": {},
   "outputs": [
    {
     "data": {
      "text/plain": [
       "0.049787068367863944"
      ]
     },
     "execution_count": 62,
     "metadata": {},
     "output_type": "execute_result"
    }
   ],
   "source": [
    "x = -3\n",
    "np.exp(x)"
   ]
  },
  {
   "cell_type": "code",
   "execution_count": 63,
   "id": "544d4242-3b47-44c3-aff9-1ee297ed6ee1",
   "metadata": {},
   "outputs": [
    {
     "data": {
      "text/plain": [
       "2.718281828459045"
      ]
     },
     "execution_count": 63,
     "metadata": {},
     "output_type": "execute_result"
    }
   ],
   "source": [
    "x = 1\n",
    "np.exp(x)"
   ]
  },
  {
   "cell_type": "code",
   "execution_count": 64,
   "id": "a5d7e253-03e4-496b-8980-210d20c86d3c",
   "metadata": {},
   "outputs": [
    {
     "data": {
      "text/plain": [
       "20.085536923187668"
      ]
     },
     "execution_count": 64,
     "metadata": {},
     "output_type": "execute_result"
    }
   ],
   "source": [
    "x = 3\n",
    "np.exp(x)"
   ]
  },
  {
   "cell_type": "code",
   "execution_count": 65,
   "id": "5648ed2b-a8b5-4568-a2c9-f497c1c34823",
   "metadata": {},
   "outputs": [
    {
     "name": "stdout",
     "output_type": "stream",
     "text": [
      "----------------------------------\n",
      "bigram example 1 : .e) (indexes 0,5)\n",
      "input to the neural net: 0\n",
      "output probabilities from the neural net: tensor([0.0607, 0.0100, 0.0123, 0.0042, 0.0168, 0.0123, 0.0027, 0.0232, 0.0137,\n",
      "        0.0313, 0.0079, 0.0278, 0.0091, 0.0082, 0.0500, 0.2378, 0.0603, 0.0025,\n",
      "        0.0249, 0.0055, 0.0339, 0.0109, 0.0029, 0.0198, 0.0118, 0.1537, 0.1459])\n",
      "---\n",
      "label (actual next character): 5\n",
      "probability assigned by the net to the correct character: 0.012286253273487091\n",
      "log likelihood: 27.867216110229492\n",
      "negative log likelihood 4.3992743492126465\n",
      "----------------------------------\n",
      "bigram example 2 : em) (indexes 5,13)\n",
      "input to the neural net: 5\n",
      "output probabilities from the neural net: tensor([0.0290, 0.0796, 0.0248, 0.0521, 0.1989, 0.0289, 0.0094, 0.0335, 0.0097,\n",
      "        0.0301, 0.0702, 0.0228, 0.0115, 0.0181, 0.0108, 0.0315, 0.0291, 0.0045,\n",
      "        0.0916, 0.0215, 0.0486, 0.0300, 0.0501, 0.0027, 0.0118, 0.0022, 0.0472])\n",
      "---\n",
      "label (actual next character): 13\n",
      "probability assigned by the net to the correct character: 0.018050702288746834\n",
      "log likelihood: 4.3992743492126465\n",
      "negative log likelihood 4.014570713043213\n",
      "----------------------------------\n",
      "bigram example 3 : mm) (indexes 13,13)\n",
      "input to the neural net: 13\n",
      "output probabilities from the neural net: tensor([0.0312, 0.0737, 0.0484, 0.0333, 0.0674, 0.0200, 0.0263, 0.0249, 0.1226,\n",
      "        0.0164, 0.0075, 0.0789, 0.0131, 0.0267, 0.0147, 0.0112, 0.0585, 0.0121,\n",
      "        0.0650, 0.0058, 0.0208, 0.0078, 0.0133, 0.0203, 0.1204, 0.0469, 0.0126])\n",
      "---\n",
      "label (actual next character): 13\n",
      "probability assigned by the net to the correct character: 0.026691533625125885\n",
      "log likelihood: 4.014570713043213\n",
      "negative log likelihood 3.623408794403076\n",
      "----------------------------------\n",
      "bigram example 4 : ma) (indexes 13,1)\n",
      "input to the neural net: 13\n",
      "output probabilities from the neural net: tensor([0.0312, 0.0737, 0.0484, 0.0333, 0.0674, 0.0200, 0.0263, 0.0249, 0.1226,\n",
      "        0.0164, 0.0075, 0.0789, 0.0131, 0.0267, 0.0147, 0.0112, 0.0585, 0.0121,\n",
      "        0.0650, 0.0058, 0.0208, 0.0078, 0.0133, 0.0203, 0.1204, 0.0469, 0.0126])\n",
      "---\n",
      "label (actual next character): 1\n",
      "probability assigned by the net to the correct character: 0.07367684692144394\n",
      "log likelihood: 3.623408794403076\n",
      "negative log likelihood 2.6080667972564697\n",
      "----------------------------------\n",
      "bigram example 5 : a.) (indexes 1,0)\n",
      "input to the neural net: 1\n",
      "output probabilities from the neural net: tensor([0.0150, 0.0086, 0.0396, 0.0100, 0.0606, 0.0308, 0.1084, 0.0131, 0.0125,\n",
      "        0.0048, 0.1024, 0.0086, 0.0988, 0.0112, 0.0232, 0.0207, 0.0408, 0.0078,\n",
      "        0.0899, 0.0531, 0.0463, 0.0309, 0.0051, 0.0329, 0.0654, 0.0503, 0.0091])\n",
      "---\n",
      "label (actual next character): 0\n",
      "probability assigned by the net to the correct character: 0.0149775305762887\n",
      "log likelihood: 2.6080667972564697\n",
      "negative log likelihood 4.201204299926758\n",
      "====================================\n",
      "average negative log likelihood, i.e. loss = 3.7693049907684326\n"
     ]
    }
   ],
   "source": [
    "nlls = torch.zeros(5)\n",
    "for i in range(5):\n",
    "    # i-th bigram:\n",
    "    x = xs[i].item() # input character index\n",
    "    y = ys[i].item() # label character index\n",
    "    print('----------------------------------')\n",
    "    print(f'bigram example {i+1} : {i_to_s[x]}{i_to_s[y]}) (indexes {x},{y})')\n",
    "    print('input to the neural net:', x)\n",
    "    print('output probabilities from the neural net:', probs[i])\n",
    "    print('---')\n",
    "    print('label (actual next character):', y)\n",
    "    p = probs[i, y]\n",
    "    print('probability assigned by the net to the correct character:', p.item())\n",
    "    logp = torch.log(p)\n",
    "    print('log likelihood:', nll.item())\n",
    "    nll = -logp\n",
    "    print('negative log likelihood', nll.item())\n",
    "    nlls[i] = nll\n",
    "    \n",
    "print('====================================')\n",
    "print('average negative log likelihood, i.e. loss =', nlls.mean().item())"
   ]
  },
  {
   "cell_type": "markdown",
   "id": "a313281a-3f57-4111-8808-b24363234685",
   "metadata": {},
   "source": [
    "## Optimise the nn weights"
   ]
  },
  {
   "cell_type": "code",
   "execution_count": 66,
   "id": "61faaf62-1e32-4a74-8283-ae5c3dd2e339",
   "metadata": {},
   "outputs": [
    {
     "data": {
      "text/plain": [
       "tensor([ 0,  5, 13, 13,  1])"
      ]
     },
     "execution_count": 66,
     "metadata": {},
     "output_type": "execute_result"
    }
   ],
   "source": [
    "xs"
   ]
  },
  {
   "cell_type": "code",
   "execution_count": 67,
   "id": "a4ace84b-1003-44d4-b04b-5ef6eed52f86",
   "metadata": {},
   "outputs": [
    {
     "data": {
      "text/plain": [
       "tensor([ 5, 13, 13,  1,  0])"
      ]
     },
     "execution_count": 67,
     "metadata": {},
     "output_type": "execute_result"
    }
   ],
   "source": [
    "ys"
   ]
  },
  {
   "cell_type": "code",
   "execution_count": 94,
   "id": "c95de341-c9c0-44ba-84a6-75e254396e2c",
   "metadata": {},
   "outputs": [],
   "source": [
    "# randomly initialise 27 neurons, each neuron receives 27 inputs\n",
    "g = torch.Generator().manual_seed(2147483647)\n",
    "W = torch.randn((27, 27), generator = g, requires_grad=True)"
   ]
  },
  {
   "cell_type": "code",
   "execution_count": 95,
   "id": "bb646580-f86f-4bbd-b110-c7a753fcdc58",
   "metadata": {},
   "outputs": [
    {
     "data": {
      "text/plain": [
       "torch.float32"
      ]
     },
     "execution_count": 95,
     "metadata": {},
     "output_type": "execute_result"
    }
   ],
   "source": [
    "W.dtype"
   ]
  },
  {
   "cell_type": "code",
   "execution_count": 132,
   "id": "1ff5ff18-b875-4dbc-bf51-5ea02484b218",
   "metadata": {},
   "outputs": [],
   "source": [
    "# forward pass\n",
    "xenc = F.one_hot(xs, num_classes=27).float() # inpute to the network: one-hot encoding\n",
    "logits = xenc @ W # predict log-counts\n",
    "counts = logits.exp() # counts, equivalent to N\n",
    "probs = counts/counts.sum(1, keepdims=True) # probabilities for next character\n",
    "loss = -probs[torch.arange(5), ys].log().mean()"
   ]
  },
  {
   "cell_type": "code",
   "execution_count": 133,
   "id": "4f2043bf-2e2f-4bc0-9a94-03f306f9201c",
   "metadata": {},
   "outputs": [
    {
     "name": "stdout",
     "output_type": "stream",
     "text": [
      "3.66926646232605\n"
     ]
    }
   ],
   "source": [
    "print(loss.item())"
   ]
  },
  {
   "cell_type": "code",
   "execution_count": 134,
   "id": "96af6527-b454-4c73-92af-c84d12712c95",
   "metadata": {},
   "outputs": [],
   "source": [
    "# backward pass\n",
    "W.grad = None # set the gradient to zero\n",
    "loss.backward()"
   ]
  },
  {
   "cell_type": "code",
   "execution_count": 135,
   "id": "79538e84-2bad-46aa-a9a1-d7a29e178b84",
   "metadata": {},
   "outputs": [],
   "source": [
    "W.data += -0.1 * W.grad"
   ]
  },
  {
   "cell_type": "code",
   "execution_count": 98,
   "id": "03007169-04cc-4df0-8ae2-df950ee3e5b6",
   "metadata": {},
   "outputs": [
    {
     "data": {
      "text/plain": [
       "torch.Size([5, 27])"
      ]
     },
     "execution_count": 98,
     "metadata": {},
     "output_type": "execute_result"
    }
   ],
   "source": [
    "probs.shape"
   ]
  },
  {
   "cell_type": "code",
   "execution_count": 99,
   "id": "bc0352b5-81a5-4ef1-b3b6-07b0a39023d5",
   "metadata": {},
   "outputs": [
    {
     "data": {
      "text/plain": [
       "(tensor(0.0123, grad_fn=<SelectBackward0>),\n",
       " tensor(0.0181, grad_fn=<SelectBackward0>),\n",
       " tensor(0.0267, grad_fn=<SelectBackward0>),\n",
       " tensor(0.0737, grad_fn=<SelectBackward0>),\n",
       " tensor(0.0150, grad_fn=<SelectBackward0>))"
      ]
     },
     "execution_count": 99,
     "metadata": {},
     "output_type": "execute_result"
    }
   ],
   "source": [
    "# Probabilities we are interested in for ys\n",
    "probs[0, 5], probs[1, 13], probs[2, 13], probs[3, 1], probs[4, 0]"
   ]
  },
  {
   "cell_type": "code",
   "execution_count": 101,
   "id": "4be75917-196f-46e9-9838-38c1e54565f3",
   "metadata": {},
   "outputs": [
    {
     "data": {
      "text/plain": [
       "tensor([0, 1, 2, 3, 4])"
      ]
     },
     "execution_count": 101,
     "metadata": {},
     "output_type": "execute_result"
    }
   ],
   "source": [
    "# How to get the probabilities out in PyTorch\n",
    "torch.arange(5)"
   ]
  },
  {
   "cell_type": "code",
   "execution_count": 115,
   "id": "601b7d0f-5f53-4789-9158-25c1ce3b774a",
   "metadata": {},
   "outputs": [],
   "source": []
  },
  {
   "cell_type": "code",
   "execution_count": 105,
   "id": "ce9e76ff-2022-4813-ba38-b9c5145bc50f",
   "metadata": {},
   "outputs": [
    {
     "data": {
      "text/plain": [
       "torch.Size([27, 27])"
      ]
     },
     "execution_count": 105,
     "metadata": {},
     "output_type": "execute_result"
    }
   ],
   "source": [
    "W.shape"
   ]
  },
  {
   "cell_type": "code",
   "execution_count": 109,
   "id": "cf91a14c-d343-47af-98a8-2111dcde26e3",
   "metadata": {},
   "outputs": [
    {
     "name": "stdout",
     "output_type": "stream",
     "text": [
      "3.7693049907684326\n"
     ]
    }
   ],
   "source": [
    "print(loss.item())"
   ]
  },
  {
   "cell_type": "code",
   "execution_count": 107,
   "id": "4e68fd1c-006b-4973-be59-b243fe1462fc",
   "metadata": {},
   "outputs": [
    {
     "data": {
      "text/plain": [
       "tensor([[ 0.0121,  0.0020,  0.0025,  0.0008,  0.0034, -0.1975,  0.0005,  0.0046,\n",
       "          0.0027,  0.0063,  0.0016,  0.0056,  0.0018,  0.0016,  0.0100,  0.0476,\n",
       "          0.0121,  0.0005,  0.0050,  0.0011,  0.0068,  0.0022,  0.0006,  0.0040,\n",
       "          0.0024,  0.0307,  0.0292]])"
      ]
     },
     "execution_count": 107,
     "metadata": {},
     "output_type": "execute_result"
    }
   ],
   "source": [
    "W.grad[:1]"
   ]
  },
  {
   "cell_type": "markdown",
   "id": "8df8b2d8-a6dd-4d7b-a534-ec03f0fb4af8",
   "metadata": {},
   "source": [
    "# Optimisation"
   ]
  },
  {
   "cell_type": "code",
   "execution_count": 185,
   "id": "1f1739a4-ac53-4c05-a8ee-4c172612b933",
   "metadata": {},
   "outputs": [
    {
     "name": "stdout",
     "output_type": "stream",
     "text": [
      "number of examples:  228146\n"
     ]
    }
   ],
   "source": [
    "# Create the dataset\n",
    "xs, ys = [], []\n",
    "\n",
    "for w in words:\n",
    "    chs = ['.'] + list(w) + ['.']\n",
    "    for ch1, ch2 in zip(chs, chs[1:]):\n",
    "        ix1 = s_to_i[ch1]\n",
    "        ix2 = s_to_i[ch2]\n",
    "        xs.append(ix1)\n",
    "        ys.append(ix2)\n",
    "xs = torch.tensor(xs)\n",
    "ys = torch.tensor(ys)\n",
    "num = xs.nelement()\n",
    "print('number of examples: ', num)\n",
    "\n",
    "# Initialise the 'network'\n",
    "g = torch.Generator().manual_seed(2147483647)\n",
    "W = torch.randn((27, 27), generator = g, requires_grad=True)\n"
   ]
  },
  {
   "cell_type": "code",
   "execution_count": 187,
   "id": "4632f683-9e55-46ad-9e0f-285067b8b969",
   "metadata": {},
   "outputs": [
    {
     "name": "stdout",
     "output_type": "stream",
     "text": [
      "2.6890032291412354\n",
      "2.6696884632110596\n",
      "2.6529300212860107\n",
      "2.638277292251587\n",
      "2.6253881454467773\n",
      "2.613990545272827\n",
      "2.60386323928833\n",
      "2.5948219299316406\n",
      "2.5867116451263428\n",
      "2.579403877258301\n",
      "2.572789192199707\n",
      "2.5667762756347656\n",
      "2.5612878799438477\n",
      "2.5562586784362793\n",
      "2.551633596420288\n",
      "2.547365665435791\n",
      "2.5434155464172363\n",
      "2.5397486686706543\n",
      "2.5363364219665527\n",
      "2.533154249191284\n",
      "2.5301806926727295\n",
      "2.5273966789245605\n",
      "2.5247862339019775\n",
      "2.522334575653076\n",
      "2.520029067993164\n",
      "2.517857789993286\n",
      "2.515810489654541\n",
      "2.513878345489502\n",
      "2.512052059173584\n",
      "2.510324001312256\n",
      "2.5086867809295654\n",
      "2.5071346759796143\n",
      "2.5056614875793457\n",
      "2.5042612552642822\n",
      "2.5029289722442627\n",
      "2.5016605854034424\n",
      "2.5004522800445557\n",
      "2.4992990493774414\n",
      "2.498197317123413\n",
      "2.4971446990966797\n",
      "2.4961376190185547\n",
      "2.495173692703247\n",
      "2.4942493438720703\n",
      "2.493363380432129\n",
      "2.4925124645233154\n",
      "2.4916954040527344\n",
      "2.4909095764160156\n",
      "2.4901537895202637\n",
      "2.4894261360168457\n",
      "2.488725185394287\n",
      "2.4880495071411133\n",
      "2.4873974323272705\n",
      "2.4867680072784424\n",
      "2.4861602783203125\n",
      "2.4855728149414062\n",
      "2.4850049018859863\n",
      "2.4844553470611572\n",
      "2.4839231967926025\n",
      "2.483408212661743\n",
      "2.4829084873199463\n",
      "2.482424736022949\n",
      "2.48195481300354\n",
      "2.481499195098877\n",
      "2.4810571670532227\n",
      "2.4806275367736816\n",
      "2.480210065841675\n",
      "2.479804515838623\n",
      "2.479410409927368\n",
      "2.4790265560150146\n",
      "2.4786536693573\n",
      "2.478290557861328\n",
      "2.4779367446899414\n",
      "2.4775924682617188\n",
      "2.4772567749023438\n",
      "2.4769303798675537\n",
      "2.476611375808716\n",
      "2.4763011932373047\n",
      "2.4759979248046875\n",
      "2.4757022857666016\n",
      "2.4754140377044678\n",
      "2.475132703781128\n",
      "2.474858045578003\n",
      "2.4745893478393555\n",
      "2.474327564239502\n",
      "2.474071741104126\n",
      "2.4738216400146484\n",
      "2.4735772609710693\n",
      "2.4733383655548096\n",
      "2.47310471534729\n",
      "2.4728763103485107\n",
      "2.4726526737213135\n",
      "2.4724342823028564\n",
      "2.4722204208374023\n",
      "2.472010850906372\n",
      "2.471806049346924\n",
      "2.4716055393218994\n",
      "2.4714088439941406\n",
      "2.4712166786193848\n",
      "2.4710280895233154\n",
      "2.470843553543091\n"
     ]
    }
   ],
   "source": [
    "# Gradient descent\n",
    "for k in range(100):\n",
    "    \n",
    "    # forward pass\n",
    "    xenc = F.one_hot(xs, num_classes=27).float() # input to the network: one-hot encoding\n",
    "    logits = xenc @ W # predict log-counts\n",
    "    counts = logits.exp() # counts, equivalent to N\n",
    "    probs = counts/counts.sum(1, keepdims=True) # probabilities for next character\n",
    "    loss = -probs[torch.arange(num), ys].log().mean() # + 0.01*(W**2).mean()\n",
    "    print(loss.item())\n",
    "    \n",
    "    # backward pass\n",
    "    W.grad = None # set the gradient to zero\n",
    "    loss.backward()\n",
    "    \n",
    "    # update\n",
    "    W.data += -50 * W.grad"
   ]
  },
  {
   "cell_type": "code",
   "execution_count": 189,
   "id": "b4e298c7-2c0e-4af4-ae9c-ff4f3df693e2",
   "metadata": {},
   "outputs": [
    {
     "name": "stdout",
     "output_type": "stream",
     "text": [
      "nso.\n",
      ".\n",
      "vv.\n",
      "nnnlynsrylis.\n",
      "lrlmr.\n",
      "lr.\n",
      "e.\n",
      ".\n",
      "nlmwlry.\n",
      "rnl.\n",
      "r.\n",
      "arlndl.\n",
      "eheslakdlnonlslineegytlr.\n",
      "i.\n",
      ".\n",
      "u.\n",
      ".\n",
      "allyr.\n",
      "llimanslrneennin.\n",
      ".\n",
      "d.\n",
      "g.\n",
      ".\n",
      "lolnml.\n",
      ".\n",
      "vrts.\n",
      "nlllrrqv.\n",
      "eycavetnnl.\n",
      "n.\n",
      "ltyslyunnldmnnnncvnrsldmrbgstdelnryymrs.\n",
      "ssnnc.\n",
      ".\n",
      "y.\n",
      "j.\n",
      "mrel.\n",
      "klenmlnnllll.\n",
      "mn.\n",
      "ny.\n",
      "erynt.\n",
      "yleiiim.\n",
      "leyyrrlnyrnnrcr.\n",
      "t.\n",
      "rn.\n",
      ".\n",
      "ltrllnynrenocenneells.\n",
      "cnlni.\n",
      "s.\n",
      "eldrmiietelt.\n",
      "lrn.\n",
      "lsl.\n",
      "eyyllnr.\n",
      "lcnr.\n",
      "nierl.\n",
      ".\n",
      "mi.\n",
      ".\n",
      "rprle.\n",
      "n.\n",
      ".\n",
      "dnknt.\n",
      "ni.\n",
      "pliterzao.\n",
      "smaldltdlyle.\n",
      "aenk.\n",
      "nmr.\n",
      "rs.\n",
      ".\n",
      "lyypnrn.\n",
      "eve.\n",
      ".\n",
      "lahrrl.\n",
      "trynla.\n",
      "l.\n",
      ".\n",
      "m.\n",
      ".\n",
      "mylnmirrlbl.\n",
      "r.\n",
      "r.\n",
      "n.\n",
      "erlllznr.\n",
      ".\n",
      "hrrtnrernlnnietr.\n",
      ".\n",
      "k.\n",
      "zrnmnaiemsrvlsr.\n",
      "jluamllny.\n",
      "i.\n",
      "rle.\n",
      "irl.\n",
      "ia.\n",
      "u.\n",
      "aslnlrlssrrvlylrsyleny.\n",
      "rs.\n",
      "rvdr.\n",
      "mmcl.\n",
      ".\n",
      "nellamljdl.\n",
      "nansr.\n",
      ".\n"
     ]
    }
   ],
   "source": [
    "# Sample from the neural net model\n",
    "g = torch.Generator().manual_seed(2147483647)\n",
    "\n",
    "for i in range(100):\n",
    "    ix = 0\n",
    "    out = []\n",
    "    while True:\n",
    "        \n",
    "        # ----------\n",
    "        # BEFORE\n",
    "        # p = P[ix]\n",
    "        # ----------\n",
    "        # NOW\n",
    "        xenc = F.one_hot(xs, num_classes=27).float() # input to the network: one-hot encoding\n",
    "        logits = xenc @ W # predict log-counts\n",
    "        counts = logits.exp() # counts, equivalent to N\n",
    "        probs = counts/counts.sum(1, keepdims=True) # probabilities for next character\n",
    "        # ----------\n",
    "        \n",
    "        ix = torch.multinomial(p, num_samples=1, replacement=True, generator=g).item()\n",
    "        out.append(i_to_s[ix])\n",
    "        if ix == 0:\n",
    "            break\n",
    "    print(''.join(out))"
   ]
  },
  {
   "cell_type": "code",
   "execution_count": null,
   "id": "083c6244-2b67-450d-bb3f-0c37711845f5",
   "metadata": {},
   "outputs": [],
   "source": []
  }
 ],
 "metadata": {
  "kernelspec": {
   "display_name": "Python 3 (ipykernel)",
   "language": "python",
   "name": "python3"
  },
  "language_info": {
   "codemirror_mode": {
    "name": "ipython",
    "version": 3
   },
   "file_extension": ".py",
   "mimetype": "text/x-python",
   "name": "python",
   "nbconvert_exporter": "python",
   "pygments_lexer": "ipython3",
   "version": "3.9.10"
  }
 },
 "nbformat": 4,
 "nbformat_minor": 5
}
